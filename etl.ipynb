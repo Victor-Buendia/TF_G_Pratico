{
 "cells": [
  {
   "cell_type": "markdown",
   "id": "2355a548",
   "metadata": {},
   "source": [
    "# ETL\n",
    "## Trabalho Final | Prática | Grupo G\n",
    "Base de dados usada: https://www.kaggle.com/datasets/whenamancodes/popular-movies-datasets-58000-movies?select=tags.csv'\n",
    "\n",
    "Slide: [Canva](https://www.canva.com/design/DAFYb14LbAA/J_Kk7ndEoZM1m3Tw_glTIA/edit?utm_content=DAFYb14LbAA&utm_campaign=designshare&utm_medium=link2&utm_source=sharebutton)\n",
    "\n",
    "|Alunos|Matrícula|\n",
    "|--|--|\n",
    "|Victor Buendia Cruz De Alvim|19/0020601|\n",
    "|Lucas Ursulino Boaventura|18/0114093|\n",
    "|Yudi Yamane de Azevedo|16/0149410|"
   ]
  },
  {
   "cell_type": "markdown",
   "id": "80ced05a",
   "metadata": {},
   "source": [
    "##  ⚙️ Setup ==========================="
   ]
  },
  {
   "cell_type": "code",
   "execution_count": 1,
   "id": "5e7fb837",
   "metadata": {},
   "outputs": [],
   "source": [
    "pip install opendatasets pandas pandasql findspark pyspark --quiet"
   ]
  },
  {
   "cell_type": "code",
   "execution_count": 2,
   "id": "061ed227",
   "metadata": {},
   "outputs": [],
   "source": [
    "from pandasql import sqldf\n",
    "import opendatasets as od\n",
    "import pandas\n",
    "import os\n",
    "import re"
   ]
  },
  {
   "cell_type": "code",
   "execution_count": 3,
   "id": "6b777f23",
   "metadata": {},
   "outputs": [],
   "source": [
    "import findspark\n",
    "findspark.init()\n",
    "from pyspark.context import SparkContext\n",
    "from pyspark.sql.session import SparkSession\n",
    "sc = SparkContext('local')\n",
    "spark = SparkSession(sc)"
   ]
  },
  {
   "cell_type": "code",
   "execution_count": 4,
   "id": "a81b474c",
   "metadata": {},
   "outputs": [],
   "source": [
    "from pyspark.sql import functions as F"
   ]
  },
  {
   "cell_type": "markdown",
   "id": "fe93a4aa",
   "metadata": {},
   "source": [
    "## ⬇️ Extract ============================="
   ]
  },
  {
   "cell_type": "code",
   "execution_count": 5,
   "id": "b7df215f",
   "metadata": {},
   "outputs": [],
   "source": [
    "if not os.path.exists('./popular-movies-datasets-58000-movies/'):\n",
    "    kaggleAPI = input('[TOKEN API] Insire seu Token API do Kaggle:')\n",
    "\n",
    "    fp = open('kaggle.json', 'w')\n",
    "    fp.write(kaggleAPI)\n",
    "    fp.close()\n",
    "\n",
    "    od.download(\n",
    "        'https://www.kaggle.com/datasets/whenamancodes/popular-movies-datasets-58000-movies?select=tags.csv')\n",
    "\n",
    "    os.remove('kaggle.json')"
   ]
  },
  {
   "cell_type": "code",
   "execution_count": 6,
   "id": "a9ec7ed9",
   "metadata": {},
   "outputs": [],
   "source": [
    "csvs = {}\n",
    "for dirname, _, filenames in os.walk('./popular-movies-datasets-58000-movies/'):\n",
    "    for filename in filenames:\n",
    "        csvs[filename] = os.path.join(dirname, filename)\n",
    "        print(os.path.join(dirname, filename))"
   ]
  },
  {
   "cell_type": "code",
   "execution_count": 7,
   "id": "98ea39e8",
   "metadata": {},
   "outputs": [],
   "source": [
    "dfs = {}\n",
    "\n",
    "for filename in csvs:\n",
    "    file=(csvs[filename])\n",
    "    newData = spark.read.format(\"csv\").option(\"header\",\"true\").load(file)\n",
    "    dfs[re.sub('-', '_', re.findall(\"(.+).csv\", filename)[0])] = newData\n",
    "    newData.createOrReplaceTempView(re.sub('-', '_', re.findall(\"(.+).csv\", filename)[0]))"
   ]
  },
  {
   "cell_type": "code",
   "execution_count": 8,
   "id": "dd625b26",
   "metadata": {},
   "outputs": [],
   "source": [
    "for df in dfs:\n",
    "    print(df,'\\n |-->', dfs[df], '\\n')"
   ]
  },
  {
   "cell_type": "markdown",
   "id": "a69504e1",
   "metadata": {},
   "source": [
    "# ✨ Transform ========================="
   ]
  },
  {
   "cell_type": "code",
   "execution_count": 9,
   "id": "e1b4f495",
   "metadata": {},
   "outputs": [],
   "source": [
    "def sqlR(sql):\n",
    "    return (spark.sql(sql).toPandas())"
   ]
  },
  {
   "cell_type": "markdown",
   "id": "82515ea5",
   "metadata": {},
   "source": [
    "## Movies"
   ]
  },
  {
   "cell_type": "code",
   "execution_count": 10,
   "id": "185aff14",
   "metadata": {},
   "outputs": [],
   "source": [
    "spark.table('movies')\\\n",
    ".withColumn('genres', F.split(spark.table('movies')['genres'], '\\|'))\\\n",
    ".createOrReplaceTempView('movies')"
   ]
  },
  {
   "cell_type": "code",
   "execution_count": 11,
   "id": "833e4b76",
   "metadata": {},
   "outputs": [],
   "source": [
    "sql = \"\"\"\n",
    "\n",
    "WITH M AS (\n",
    "    SELECT\n",
    "        M.movieId\n",
    "        , M.title\n",
    "        , M.genres\n",
    "        , SUM(R.rating)/COUNT(R.rating) AS average_rating\n",
    "        , COUNT(DISTINCT R.userId) AS user_review_amount\n",
    "        , COUNT(R.rating) AS review_amount\n",
    "    FROM\n",
    "        movies AS M\n",
    "    JOIN\n",
    "        ratings AS R\n",
    "        ON TRUE\n",
    "            AND M.movieId = R.movieId\n",
    "    GROUP BY\n",
    "        1,2,3\n",
    ")\n",
    "\n",
    "SELECT * FROM M\n",
    "\n",
    "\n",
    "\"\"\"\n",
    "\n",
    "\n",
    "sqlR(sql)"
   ]
  }
 ],
 "metadata": {
  "kernelspec": {
   "display_name": "Python 3 (ipykernel)",
   "language": "python",
   "name": "python3"
  },
  "language_info": {
   "codemirror_mode": {
    "name": "ipython",
    "version": 3
   },
   "file_extension": ".py",
   "mimetype": "text/x-python",
   "name": "python",
   "nbconvert_exporter": "python",
   "pygments_lexer": "ipython3",
   "version": "3.8.10"
  }
 },
 "nbformat": 4,
 "nbformat_minor": 5
}
