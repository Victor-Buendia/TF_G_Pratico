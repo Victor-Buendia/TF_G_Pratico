{
 "cells": [
  {
   "cell_type": "markdown",
   "id": "2355a548",
   "metadata": {},
   "source": [
    "# ETL\n",
    "## Trabalho Final | Prática | Grupo G\n",
    "### Alunos\n",
    "- Victor\n",
    "- Lucas\n",
    "- Yudi"
   ]
  },
  {
   "cell_type": "markdown",
   "id": "80ced05a",
   "metadata": {},
   "source": [
    "## Setup"
   ]
  },
  {
   "cell_type": "code",
   "execution_count": 41,
   "id": "5e7fb837",
   "metadata": {},
   "outputs": [
    {
     "name": "stdout",
     "output_type": "stream",
     "text": [
      "Note: you may need to restart the kernel to use updated packages.\n"
     ]
    }
   ],
   "source": [
    "pip install opendatasets pandas pandasql findspark pyspark --quiet"
   ]
  },
  {
   "cell_type": "code",
   "execution_count": 2,
   "id": "061ed227",
   "metadata": {},
   "outputs": [],
   "source": [
    "from pandasql import sqldf\n",
    "import opendatasets as od\n",
    "import pandas as pds\n",
    "import os\n",
    "import re"
   ]
  },
  {
   "cell_type": "code",
   "execution_count": 3,
   "id": "6b777f23",
   "metadata": {},
   "outputs": [
    {
     "name": "stdout",
     "output_type": "stream",
     "text": [
      "23/01/28 11:18:42 WARN Utils: Your hostname, buendia-Nitro-AN515-51 resolves to a loopback address: 127.0.1.1; using 192.168.1.21 instead (on interface wlp2s0)\n",
      "23/01/28 11:18:42 WARN Utils: Set SPARK_LOCAL_IP if you need to bind to another address\n"
     ]
    },
    {
     "name": "stderr",
     "output_type": "stream",
     "text": [
      "Setting default log level to \"WARN\".\n",
      "To adjust logging level use sc.setLogLevel(newLevel). For SparkR, use setLogLevel(newLevel).\n"
     ]
    },
    {
     "name": "stdout",
     "output_type": "stream",
     "text": [
      "23/01/28 11:18:43 WARN NativeCodeLoader: Unable to load native-hadoop library for your platform... using builtin-java classes where applicable\n"
     ]
    }
   ],
   "source": [
    "import findspark\n",
    "findspark.init()\n",
    "from pyspark.context import SparkContext\n",
    "from pyspark.sql.session import SparkSession\n",
    "sc = SparkContext('local')\n",
    "spark = SparkSession(sc)"
   ]
  },
  {
   "cell_type": "code",
   "execution_count": 27,
   "id": "a81b474c",
   "metadata": {},
   "outputs": [],
   "source": [
    "from pyspark.sql import functions as F"
   ]
  },
  {
   "cell_type": "markdown",
   "id": "fe93a4aa",
   "metadata": {},
   "source": [
    "## Extract"
   ]
  },
  {
   "cell_type": "code",
   "execution_count": 6,
   "id": "b7df215f",
   "metadata": {},
   "outputs": [],
   "source": [
    "if not os.path.exists('./popular-movies-datasets-58000-movies/'):\n",
    "    kaggleAPI = input('[TOKEN API] Insire seu Token API do Kaggle:')\n",
    "\n",
    "    fp = open('kaggle.json', 'w')\n",
    "    fp.write(kaggleAPI)\n",
    "    fp.close()\n",
    "\n",
    "    od.download(\n",
    "        'https://www.kaggle.com/datasets/whenamancodes/popular-movies-datasets-58000-movies?select=tags.csv')\n",
    "\n",
    "    os.remove('kaggle.json')"
   ]
  },
  {
   "cell_type": "code",
   "execution_count": 7,
   "id": "a9ec7ed9",
   "metadata": {},
   "outputs": [
    {
     "name": "stdout",
     "output_type": "stream",
     "text": [
      "./popular-movies-datasets-58000-movies/genome-scores.csv\n",
      "./popular-movies-datasets-58000-movies/genome-tags.csv\n",
      "./popular-movies-datasets-58000-movies/tags.csv\n",
      "./popular-movies-datasets-58000-movies/ratings.csv\n",
      "./popular-movies-datasets-58000-movies/links.csv\n",
      "./popular-movies-datasets-58000-movies/movies.csv\n"
     ]
    }
   ],
   "source": [
    "csvs = {}\n",
    "for dirname, _, filenames in os.walk('./popular-movies-datasets-58000-movies/'):\n",
    "    for filename in filenames:\n",
    "        csvs[filename] = os.path.join(dirname, filename)\n",
    "        print(os.path.join(dirname, filename))"
   ]
  },
  {
   "cell_type": "code",
   "execution_count": 14,
   "id": "229897b5",
   "metadata": {},
   "outputs": [],
   "source": [
    "dfs = {}\n",
    "\n",
    "for filename in csvs:\n",
    "    file=(csvs[filename])\n",
    "    newData = spark.read.format(\"csv\").option(\"header\",\"true\").load(file)\n",
    "    dfs[re.sub('-', '_', re.findall(\"(.+).csv\", filename)[0])] = newData\n",
    "    newData.createOrReplaceTempView(re.sub('-', '_', re.findall(\"(.+).csv\", filename)[0]))"
   ]
  },
  {
   "cell_type": "code",
   "execution_count": 40,
   "id": "dd625b26",
   "metadata": {},
   "outputs": [
    {
     "name": "stdout",
     "output_type": "stream",
     "text": [
      "genome_scores \n",
      " |--> DataFrame[movieId: string, tagId: string, relevance: string] \n",
      "\n",
      "genome_tags \n",
      " |--> DataFrame[tagId: string, tag: string] \n",
      "\n",
      "tags \n",
      " |--> DataFrame[userId: string, movieId: string, tag: string, timestamp: string] \n",
      "\n",
      "ratings \n",
      " |--> DataFrame[userId: string, movieId: string, rating: string, timestamp: string] \n",
      "\n",
      "links \n",
      " |--> DataFrame[movieId: string, imdbId: string, tmdbId: string] \n",
      "\n",
      "movies \n",
      " |--> DataFrame[movieId: string, title: string, genres: string] \n",
      "\n"
     ]
    }
   ],
   "source": [
    "for df in dfs:\n",
    "    print(df,'\\n |-->', dfs[df], '\\n')"
   ]
  }
 ],
 "metadata": {
  "kernelspec": {
   "display_name": "Python 3 (ipykernel)",
   "language": "python",
   "name": "python3"
  },
  "language_info": {
   "codemirror_mode": {
    "name": "ipython",
    "version": 3
   },
   "file_extension": ".py",
   "mimetype": "text/x-python",
   "name": "python",
   "nbconvert_exporter": "python",
   "pygments_lexer": "ipython3",
   "version": "3.8.10"
  }
 },
 "nbformat": 4,
 "nbformat_minor": 5
}
