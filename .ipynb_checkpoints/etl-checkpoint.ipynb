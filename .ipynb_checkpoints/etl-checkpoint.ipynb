{
 "cells": [
  {
   "cell_type": "markdown",
   "id": "2355a548",
   "metadata": {},
   "source": [
    "# ETL\n",
    "## Trabalho Final | Prática | Grupo G\n",
    "### Alunos\n",
    "- Victor\n",
    "- Lucas\n",
    "- Yudi"
   ]
  },
  {
   "cell_type": "markdown",
   "id": "80ced05a",
   "metadata": {},
   "source": [
    "## Setup"
   ]
  },
  {
   "cell_type": "code",
   "execution_count": 1,
   "id": "5e7fb837",
   "metadata": {},
   "outputs": [
    {
     "name": "stdout",
     "output_type": "stream",
     "text": [
      "Requirement already satisfied: opendatasets in /home/buendia/.local/lib/python3.8/site-packages (0.1.22)\n",
      "Requirement already satisfied: pandas in /home/buendia/.local/lib/python3.8/site-packages (1.5.1)\n",
      "Requirement already satisfied: pandasql in /home/buendia/.local/lib/python3.8/site-packages (0.7.3)\n",
      "Requirement already satisfied: findspark in /home/buendia/.local/lib/python3.8/site-packages (2.0.1)\n",
      "Requirement already satisfied: pyspark in /home/buendia/.local/lib/python3.8/site-packages (3.3.1)\n",
      "Requirement already satisfied: click in /home/buendia/.local/lib/python3.8/site-packages (from opendatasets) (8.0.3)\n",
      "Requirement already satisfied: tqdm in /home/buendia/.local/lib/python3.8/site-packages (from opendatasets) (4.64.1)\n",
      "Requirement already satisfied: kaggle in /home/buendia/.local/lib/python3.8/site-packages (from opendatasets) (1.5.12)\n",
      "Requirement already satisfied: python-dateutil>=2.8.1 in /home/buendia/.local/lib/python3.8/site-packages (from pandas) (2.8.2)\n",
      "Requirement already satisfied: numpy>=1.20.3; python_version < \"3.10\" in /home/buendia/.local/lib/python3.8/site-packages (from pandas) (1.23.4)\n",
      "Requirement already satisfied: pytz>=2020.1 in /home/buendia/.local/lib/python3.8/site-packages (from pandas) (2022.6)\n",
      "Requirement already satisfied: sqlalchemy in /home/buendia/.local/lib/python3.8/site-packages (from pandasql) (2.0.0)\n",
      "Requirement already satisfied: py4j==0.10.9.5 in /home/buendia/.local/lib/python3.8/site-packages (from pyspark) (0.10.9.5)\n",
      "Requirement already satisfied: six>=1.10 in /home/buendia/.local/lib/python3.8/site-packages (from kaggle->opendatasets) (1.16.0)\n",
      "Requirement already satisfied: python-slugify in /home/buendia/.local/lib/python3.8/site-packages (from kaggle->opendatasets) (7.0.0)\n",
      "Requirement already satisfied: certifi in /usr/lib/python3/dist-packages (from kaggle->opendatasets) (2019.11.28)\n",
      "Requirement already satisfied: requests in /home/buendia/.local/lib/python3.8/site-packages (from kaggle->opendatasets) (2.28.1)\n",
      "Requirement already satisfied: urllib3 in /usr/local/lib/python3.8/dist-packages (from kaggle->opendatasets) (1.26.10)\n",
      "Requirement already satisfied: greenlet!=0.4.17; platform_machine == \"aarch64\" or (platform_machine == \"ppc64le\" or (platform_machine == \"x86_64\" or (platform_machine == \"amd64\" or (platform_machine == \"AMD64\" or (platform_machine == \"win32\" or platform_machine == \"WIN32\"))))) in /home/buendia/.local/lib/python3.8/site-packages (from sqlalchemy->pandasql) (2.0.1)\n",
      "Requirement already satisfied: typing-extensions>=4.2.0 in /home/buendia/.local/lib/python3.8/site-packages (from sqlalchemy->pandasql) (4.4.0)\n",
      "Requirement already satisfied: text-unidecode>=1.3 in /home/buendia/.local/lib/python3.8/site-packages (from python-slugify->kaggle->opendatasets) (1.3)\n",
      "Requirement already satisfied: charset-normalizer<3,>=2 in /home/buendia/.local/lib/python3.8/site-packages (from requests->kaggle->opendatasets) (2.1.1)\n",
      "Requirement already satisfied: idna<4,>=2.5 in /usr/lib/python3/dist-packages (from requests->kaggle->opendatasets) (2.8)\n",
      "Note: you may need to restart the kernel to use updated packages.\n"
     ]
    }
   ],
   "source": [
    "pip install opendatasets pandas pandasql findspark pyspark"
   ]
  },
  {
   "cell_type": "code",
   "execution_count": 2,
   "id": "061ed227",
   "metadata": {},
   "outputs": [],
   "source": [
    "from pandasql import sqldf\n",
    "import opendatasets as od\n",
    "import pandas as pds\n",
    "import os\n",
    "import re"
   ]
  },
  {
   "cell_type": "code",
   "execution_count": 3,
   "id": "6b777f23",
   "metadata": {},
   "outputs": [
    {
     "name": "stdout",
     "output_type": "stream",
     "text": [
      "23/01/28 11:16:22 WARN Utils: Your hostname, buendia-Nitro-AN515-51 resolves to a loopback address: 127.0.1.1; using 192.168.1.21 instead (on interface wlp2s0)\n",
      "23/01/28 11:16:22 WARN Utils: Set SPARK_LOCAL_IP if you need to bind to another address\n"
     ]
    },
    {
     "name": "stderr",
     "output_type": "stream",
     "text": [
      "Setting default log level to \"WARN\".\n",
      "To adjust logging level use sc.setLogLevel(newLevel). For SparkR, use setLogLevel(newLevel).\n"
     ]
    },
    {
     "name": "stdout",
     "output_type": "stream",
     "text": [
      "23/01/28 11:16:23 WARN NativeCodeLoader: Unable to load native-hadoop library for your platform... using builtin-java classes where applicable\n"
     ]
    }
   ],
   "source": [
    "import findspark\n",
    "findspark.init()\n",
    "from pyspark.context import SparkContext\n",
    "from pyspark.sql.session import SparkSession\n",
    "sc = SparkContext('local')\n",
    "spark = SparkSession(sc)"
   ]
  },
  {
   "cell_type": "code",
   "execution_count": 4,
   "id": "a81b474c",
   "metadata": {},
   "outputs": [
    {
     "name": "stdout",
     "output_type": "stream",
     "text": [
      "+---+\n",
      "| oi|\n",
      "+---+\n",
      "| oi|\n",
      "+---+\n",
      "\n"
     ]
    }
   ],
   "source": [
    "df = spark.sql(\"SELECT 'oi'\")\n",
    "df.show()"
   ]
  },
  {
   "cell_type": "code",
   "execution_count": 5,
   "id": "c93bb136",
   "metadata": {},
   "outputs": [
    {
     "name": "stdout",
     "output_type": "stream",
     "text": [
      "+---------+\n",
      "|namespace|\n",
      "+---------+\n",
      "|  default|\n",
      "+---------+\n",
      "\n"
     ]
    }
   ],
   "source": [
    " spark.sql('show databases').show()"
   ]
  },
  {
   "cell_type": "code",
   "execution_count": null,
   "id": "f065140b",
   "metadata": {},
   "outputs": [],
   "source": []
  },
  {
   "cell_type": "markdown",
   "id": "fe93a4aa",
   "metadata": {},
   "source": [
    "## Extract"
   ]
  },
  {
   "cell_type": "code",
   "execution_count": 6,
   "id": "b7df215f",
   "metadata": {},
   "outputs": [],
   "source": [
    "if not os.path.exists('./popular-movies-datasets-58000-movies/'):\n",
    "    kaggleAPI = input('[TOKEN API] Insire seu Token API do Kaggle:')\n",
    "\n",
    "    fp = open('kaggle.json', 'w')\n",
    "    fp.write(kaggleAPI)\n",
    "    fp.close()\n",
    "\n",
    "    od.download(\n",
    "        'https://www.kaggle.com/datasets/whenamancodes/popular-movies-datasets-58000-movies?select=tags.csv')\n",
    "\n",
    "    os.remove('kaggle.json')"
   ]
  },
  {
   "cell_type": "code",
   "execution_count": 7,
   "id": "a9ec7ed9",
   "metadata": {},
   "outputs": [
    {
     "name": "stdout",
     "output_type": "stream",
     "text": [
      "./popular-movies-datasets-58000-movies/genome-scores.csv\n",
      "./popular-movies-datasets-58000-movies/genome-tags.csv\n",
      "./popular-movies-datasets-58000-movies/tags.csv\n",
      "./popular-movies-datasets-58000-movies/ratings.csv\n",
      "./popular-movies-datasets-58000-movies/links.csv\n",
      "./popular-movies-datasets-58000-movies/movies.csv\n"
     ]
    }
   ],
   "source": [
    "csvs = {}\n",
    "for dirname, _, filenames in os.walk('./popular-movies-datasets-58000-movies/'):\n",
    "    for filename in filenames:\n",
    "        csvs[filename] = os.path.join(dirname, filename)\n",
    "        print(os.path.join(dirname, filename))"
   ]
  },
  {
   "cell_type": "code",
   "execution_count": 8,
   "id": "c3fa7f82",
   "metadata": {},
   "outputs": [
    {
     "name": "stdout",
     "output_type": "stream",
     "text": [
      "genome-scores.csv\n",
      "genome-tags.csv\n",
      "tags.csv\n",
      "ratings.csv\n",
      "links.csv\n",
      "movies.csv\n"
     ]
    }
   ],
   "source": [
    "for csv in csvs:\n",
    "    print(csv)"
   ]
  },
  {
   "cell_type": "raw",
   "id": "2c13136a",
   "metadata": {},
   "source": [
    "dfs = {}\n",
    "\n",
    "for filename in csvs:\n",
    "    file=(csvs[filename])\n",
    "    newData = spark.read.format(\"csv\").option(\"header\",\"true\").load(file)\n",
    "    dfs[filename] = newData\n",
    "    newData.createOrReplaceTempView(re.findall(\"(.+).csv\", filename)[0)"
   ]
  },
  {
   "cell_type": "code",
   "execution_count": null,
   "id": "dd625b26",
   "metadata": {},
   "outputs": [],
   "source": [
    "for df in dfs:\n",
    "    print(df,' -------------')\n",
    "    display(dfs[df])"
   ]
  },
  {
   "cell_type": "code",
   "execution_count": null,
   "id": "261b43b6",
   "metadata": {},
   "outputs": [],
   "source": [
    "df = spark.sql(\"SELECT 'oi'\")\n",
    "df.show()"
   ]
  },
  {
   "cell_type": "code",
   "execution_count": null,
   "id": "3f1ae810",
   "metadata": {},
   "outputs": [],
   "source": []
  }
 ],
 "metadata": {
  "kernelspec": {
   "display_name": "Python 3 (ipykernel)",
   "language": "python",
   "name": "python3"
  },
  "language_info": {
   "codemirror_mode": {
    "name": "ipython",
    "version": 3
   },
   "file_extension": ".py",
   "mimetype": "text/x-python",
   "name": "python",
   "nbconvert_exporter": "python",
   "pygments_lexer": "ipython3",
   "version": "3.8.10"
  }
 },
 "nbformat": 4,
 "nbformat_minor": 5
}
